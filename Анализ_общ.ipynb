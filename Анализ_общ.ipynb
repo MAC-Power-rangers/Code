{
 "cells": [
  {
   "cell_type": "code",
   "execution_count": 1,
   "metadata": {},
   "outputs": [],
   "source": [
    "import numpy as np\n",
    "import pandas as pd\n",
    "import seaborn as sns\n",
    "import matplotlib.pyplot as plt"
   ]
  },
  {
   "cell_type": "code",
   "execution_count": 2,
   "metadata": {},
   "outputs": [
    {
     "name": "stdout",
     "output_type": "stream",
     "text": [
      "<_io.TextIOWrapper name='fts_data.csv' mode='r' encoding='cp1251'>\n"
     ]
    }
   ],
   "source": [
    "with open('fts_data.csv') as f:\n",
    "    print(f)"
   ]
  },
  {
   "cell_type": "code",
   "execution_count": 3,
   "metadata": {},
   "outputs": [
    {
     "data": {
      "text/html": [
       "<div>\n",
       "<style scoped>\n",
       "    .dataframe tbody tr th:only-of-type {\n",
       "        vertical-align: middle;\n",
       "    }\n",
       "\n",
       "    .dataframe tbody tr th {\n",
       "        vertical-align: top;\n",
       "    }\n",
       "\n",
       "    .dataframe thead th {\n",
       "        text-align: right;\n",
       "    }\n",
       "</style>\n",
       "<table border=\"1\" class=\"dataframe\">\n",
       "  <thead>\n",
       "    <tr style=\"text-align: right;\">\n",
       "      <th></th>\n",
       "      <th>Страна</th>\n",
       "      <th>Регион РЭЦ</th>\n",
       "      <th>Регионы (РЭЦ) и Союзы</th>\n",
       "      <th>ТН ВЭД 10</th>\n",
       "      <th>Москва 2015 $</th>\n",
       "      <th>Москва 2016 $</th>\n",
       "      <th>Москва 2017 $</th>\n",
       "      <th>Москва 2018 $</th>\n",
       "      <th>Москва 2019 $</th>\n",
       "      <th>Москва 2020 $</th>\n",
       "      <th>...</th>\n",
       "      <th>Расшифровка ТН10</th>\n",
       "      <th>Расшифровка ТН6</th>\n",
       "      <th>Расшифровка ТН4</th>\n",
       "      <th>Расшифровка ТН2</th>\n",
       "      <th>Товар и код ТН ВЭД (10 знаков)</th>\n",
       "      <th>Товар и код ТН ВЭД (6 знаков)</th>\n",
       "      <th>Товар и код ТН ВЭД (4 знака)</th>\n",
       "      <th>Товар (2 знака)</th>\n",
       "      <th>Нацпроект 2021 v1</th>\n",
       "      <th>Отрасль 2021 v1</th>\n",
       "    </tr>\n",
       "  </thead>\n",
       "  <tbody>\n",
       "    <tr>\n",
       "      <th>0</th>\n",
       "      <td>AB-АБХАЗИЯ</td>\n",
       "      <td>СНГ</td>\n",
       "      <td>Другие</td>\n",
       "      <td>0101299000</td>\n",
       "      <td>NaN</td>\n",
       "      <td>NaN</td>\n",
       "      <td>NaN</td>\n",
       "      <td>NaN</td>\n",
       "      <td>NaN</td>\n",
       "      <td>NaN</td>\n",
       "      <td>...</td>\n",
       "      <td>Прочие лошади живые: прочие</td>\n",
       "      <td>Лошади обычные</td>\n",
       "      <td>Лошади, ослы и их помеси</td>\n",
       "      <td>Живые животные</td>\n",
       "      <td>0101299000-Прочие лошади живые: прочие</td>\n",
       "      <td>010129-Лошади обычные</td>\n",
       "      <td>0101-Лошади, ослы и их помеси</td>\n",
       "      <td>01-Живые животные</td>\n",
       "      <td>АПК</td>\n",
       "      <td>Продукция сельского хозяйства</td>\n",
       "    </tr>\n",
       "    <tr>\n",
       "      <th>1</th>\n",
       "      <td>AB-АБХАЗИЯ</td>\n",
       "      <td>СНГ</td>\n",
       "      <td>Другие</td>\n",
       "      <td>0102211000</td>\n",
       "      <td>NaN</td>\n",
       "      <td>NaN</td>\n",
       "      <td>NaN</td>\n",
       "      <td>NaN</td>\n",
       "      <td>NaN</td>\n",
       "      <td>NaN</td>\n",
       "      <td>...</td>\n",
       "      <td>Домашний крупный рогатый скот живой, чистопоро...</td>\n",
       "      <td>Чистопородный племенной крупный рогатый скот</td>\n",
       "      <td>Крупный рогатый скот живой</td>\n",
       "      <td>Живые животные</td>\n",
       "      <td>0102211000-Домашний крупный рогатый скот живой...</td>\n",
       "      <td>010221-Чистопородный племенной крупный рогатый...</td>\n",
       "      <td>0102-Крупный рогатый скот живой</td>\n",
       "      <td>01-Живые животные</td>\n",
       "      <td>АПК</td>\n",
       "      <td>Продукция сельского хозяйства</td>\n",
       "    </tr>\n",
       "    <tr>\n",
       "      <th>2</th>\n",
       "      <td>AB-АБХАЗИЯ</td>\n",
       "      <td>СНГ</td>\n",
       "      <td>Другие</td>\n",
       "      <td>0104108000</td>\n",
       "      <td>NaN</td>\n",
       "      <td>NaN</td>\n",
       "      <td>NaN</td>\n",
       "      <td>NaN</td>\n",
       "      <td>NaN</td>\n",
       "      <td>NaN</td>\n",
       "      <td>...</td>\n",
       "      <td>Прочие овцы живые</td>\n",
       "      <td>Овцы</td>\n",
       "      <td>Овцы и козы</td>\n",
       "      <td>Живые животные</td>\n",
       "      <td>0104108000-Прочие овцы живые</td>\n",
       "      <td>010410-Овцы</td>\n",
       "      <td>0104-Овцы и козы</td>\n",
       "      <td>01-Живые животные</td>\n",
       "      <td>АПК</td>\n",
       "      <td>Продукция сельского хозяйства</td>\n",
       "    </tr>\n",
       "    <tr>\n",
       "      <th>3</th>\n",
       "      <td>AB-АБХАЗИЯ</td>\n",
       "      <td>СНГ</td>\n",
       "      <td>Другие</td>\n",
       "      <td>0104209000</td>\n",
       "      <td>NaN</td>\n",
       "      <td>NaN</td>\n",
       "      <td>NaN</td>\n",
       "      <td>NaN</td>\n",
       "      <td>NaN</td>\n",
       "      <td>NaN</td>\n",
       "      <td>...</td>\n",
       "      <td>Прочие козы живые</td>\n",
       "      <td>Козы</td>\n",
       "      <td>Овцы и козы</td>\n",
       "      <td>Живые животные</td>\n",
       "      <td>0104209000-Прочие козы живые</td>\n",
       "      <td>010420-Козы</td>\n",
       "      <td>0104-Овцы и козы</td>\n",
       "      <td>01-Живые животные</td>\n",
       "      <td>АПК</td>\n",
       "      <td>Продукция сельского хозяйства</td>\n",
       "    </tr>\n",
       "    <tr>\n",
       "      <th>4</th>\n",
       "      <td>AB-АБХАЗИЯ</td>\n",
       "      <td>СНГ</td>\n",
       "      <td>Другие</td>\n",
       "      <td>0105111900</td>\n",
       "      <td>NaN</td>\n",
       "      <td>NaN</td>\n",
       "      <td>NaN</td>\n",
       "      <td>NaN</td>\n",
       "      <td>NaN</td>\n",
       "      <td>NaN</td>\n",
       "      <td>...</td>\n",
       "      <td>Прочие цыплята племенного разведения [прародит...</td>\n",
       "      <td>Куры до 185 г</td>\n",
       "      <td>Домашняя птица живая, то есть куры домашние (g...</td>\n",
       "      <td>Живые животные</td>\n",
       "      <td>0105111900-Прочие цыплята племенного разведени...</td>\n",
       "      <td>010511-Куры до 185 г</td>\n",
       "      <td>0105-Домашняя птица живая, то есть куры домашн...</td>\n",
       "      <td>01-Живые животные</td>\n",
       "      <td>АПК</td>\n",
       "      <td>Продукция сельского хозяйства</td>\n",
       "    </tr>\n",
       "  </tbody>\n",
       "</table>\n",
       "<p>5 rows × 24 columns</p>\n",
       "</div>"
      ],
      "text/plain": [
       "       Страна Регион РЭЦ Регионы (РЭЦ) и Союзы   ТН ВЭД 10   Москва 2015 $  \\\n",
       "0  AB-АБХАЗИЯ        СНГ                Другие  0101299000             NaN   \n",
       "1  AB-АБХАЗИЯ        СНГ                Другие  0102211000             NaN   \n",
       "2  AB-АБХАЗИЯ        СНГ                Другие  0104108000             NaN   \n",
       "3  AB-АБХАЗИЯ        СНГ                Другие  0104209000             NaN   \n",
       "4  AB-АБХАЗИЯ        СНГ                Другие  0105111900             NaN   \n",
       "\n",
       "    Москва 2016 $   Москва 2017 $   Москва 2018 $   Москва 2019 $  \\\n",
       "0             NaN             NaN             NaN             NaN   \n",
       "1             NaN             NaN             NaN             NaN   \n",
       "2             NaN             NaN             NaN             NaN   \n",
       "3             NaN             NaN             NaN             NaN   \n",
       "4             NaN             NaN             NaN             NaN   \n",
       "\n",
       "    Москва 2020 $  ...                                   Расшифровка ТН10  \\\n",
       "0             NaN  ...                        Прочие лошади живые: прочие   \n",
       "1             NaN  ...  Домашний крупный рогатый скот живой, чистопоро...   \n",
       "2             NaN  ...                                  Прочие овцы живые   \n",
       "3             NaN  ...                                  Прочие козы живые   \n",
       "4             NaN  ...  Прочие цыплята племенного разведения [прародит...   \n",
       "\n",
       "                                Расшифровка ТН6  \\\n",
       "0                                Лошади обычные   \n",
       "1  Чистопородный племенной крупный рогатый скот   \n",
       "2                                          Овцы   \n",
       "3                                          Козы   \n",
       "4                                 Куры до 185 г   \n",
       "\n",
       "                                     Расшифровка ТН4 Расшифровка ТН2  \\\n",
       "0                           Лошади, ослы и их помеси  Живые животные   \n",
       "1                         Крупный рогатый скот живой  Живые животные   \n",
       "2                                        Овцы и козы  Живые животные   \n",
       "3                                        Овцы и козы  Живые животные   \n",
       "4  Домашняя птица живая, то есть куры домашние (g...  Живые животные   \n",
       "\n",
       "                      Товар и код ТН ВЭД (10 знаков)  \\\n",
       "0             0101299000-Прочие лошади живые: прочие   \n",
       "1  0102211000-Домашний крупный рогатый скот живой...   \n",
       "2                       0104108000-Прочие овцы живые   \n",
       "3                       0104209000-Прочие козы живые   \n",
       "4  0105111900-Прочие цыплята племенного разведени...   \n",
       "\n",
       "                       Товар и код ТН ВЭД (6 знаков)  \\\n",
       "0                              010129-Лошади обычные   \n",
       "1  010221-Чистопородный племенной крупный рогатый...   \n",
       "2                                        010410-Овцы   \n",
       "3                                        010420-Козы   \n",
       "4                               010511-Куры до 185 г   \n",
       "\n",
       "                        Товар и код ТН ВЭД (4 знака)    Товар (2 знака)  \\\n",
       "0                      0101-Лошади, ослы и их помеси  01-Живые животные   \n",
       "1                    0102-Крупный рогатый скот живой  01-Живые животные   \n",
       "2                                   0104-Овцы и козы  01-Живые животные   \n",
       "3                                   0104-Овцы и козы  01-Живые животные   \n",
       "4  0105-Домашняя птица живая, то есть куры домашн...  01-Живые животные   \n",
       "\n",
       "  Нацпроект 2021 v1                Отрасль 2021 v1  \n",
       "0               АПК  Продукция сельского хозяйства  \n",
       "1               АПК  Продукция сельского хозяйства  \n",
       "2               АПК  Продукция сельского хозяйства  \n",
       "3               АПК  Продукция сельского хозяйства  \n",
       "4               АПК  Продукция сельского хозяйства  \n",
       "\n",
       "[5 rows x 24 columns]"
      ]
     },
     "execution_count": 3,
     "metadata": {},
     "output_type": "execute_result"
    }
   ],
   "source": [
    "df = pd.read_csv('fts_data.csv', encoding='utf-8', engine='python', decimal=',')\n",
    "df.head()"
   ]
  },
  {
   "cell_type": "code",
   "execution_count": 4,
   "metadata": {},
   "outputs": [],
   "source": [
    "df[' Москва 2021 $'] = df[' Москва 2021 $'].apply(lambda x: str(x).replace('\\xa0','').replace(',','.').replace('-','0'))\n",
    "df[' Москва 2021 $'] = df[' Москва 2021 $'].astype(float)"
   ]
  },
  {
   "cell_type": "code",
   "execution_count": 5,
   "metadata": {},
   "outputs": [],
   "source": [
    "df.fillna(0, inplace=True)\n",
    "df['Страна'] = df['Страна'].apply(lambda x: str(x).replace('(','').replace(')',''))"
   ]
  },
  {
   "cell_type": "code",
   "execution_count": 6,
   "metadata": {},
   "outputs": [],
   "source": [
    "unfriendly_countries_list = ['AU-АВСТРАЛИЯ', 'AL-АЛБАНИЯ','AD-АНДОРРА','BS-БАГАМЫ','GB-СОЕДИНЕННОЕ КОРОЛЕВСТВО','IS-ИСЛАНДИЯ','CA-КАНАДА','LI-ЛИХТЕНШТЕЙН','FM-МИКРОНЕЗИЯ','MC-МОНАКО','NZ-НОВАЯ ЗЕЛАНДИЯ','NO-НОРВЕГИЯ','KR-КОРЕЯ, РЕСПУБЛИКА','SM-САН-МАРИНО','MK-РЕСПУБЛИКА МАКЕДОНИЯ','SG-СИНГАПУР','US-СОЕДИНЕННЫЕ ШТАТЫ','TW-ТАЙВАНЬ (КИТАЙ)','UA-УКРАИНА','ME-ЧЕРНОГОРИЯ','CH-ШВЕЙЦАРИЯ','JP-ЯПОНИЯ','JE-ДЖЕРСИ','GG-ГЕРНСИ','IM-ОСТРОВ МЭН','AI-АНГИЛЬЯ','VG-ВИРГИНСКИЕ ОСТРОВА (БРИТАНСКИЕ)','GI-ГИБРАЛТАР','AT-АВСТРИЯ','BE-БЕЛЬГИЯ','BG-БОЛГАРИЯ','HU-ВЕНГРИЯ','DE-ГЕРМАНИЯ','GR-ГРЕЦИЯ','DK-ДАНИЯ','IE-ИРЛАНДИЯ','ES-ИСПАНИЯ','IT-ИТАЛИЯ','CY-КИПР','LV-ЛАТВИЯ','LT-ЛИТВА','LU-ЛЮКСЕМБУРГ','MT-МАЛЬТА','NL-НИДЕРЛАНДЫ','PL-ПОЛЬША','PT-ПОРТУГАЛИЯ','RO-РУМЫНИЯ','SK-СЛОВАКИЯ','SI-СЛОВЕНИЯ','FI-ФИНЛЯНДИЯ','FR-ФРАНЦИЯ','HR-ХОРВАТИЯ','CZ-ЧЕХИЯ','SE-ШВЕЦИЯ','EE-ЭСТОНИЯ','VI-ВИРГИНСКИЕ ОСТРОВА США']"
   ]
  },
  {
   "cell_type": "code",
   "execution_count": 7,
   "metadata": {},
   "outputs": [
    {
     "data": {
      "text/plain": [
       "(291947, 8)"
      ]
     },
     "execution_count": 7,
     "metadata": {},
     "output_type": "execute_result"
    }
   ],
   "source": [
    "df_for_work = df\n",
    "df_for_work.drop(['Регион РЭЦ', 'Регионы (РЭЦ) и Союзы', 'ТН ВЭД 10', 'ТНВЭД 6',\n",
    "       'ТНВЭД 4', 'ТНВЭД 2', 'Расшифровка ТН10', 'Расшифровка ТН6',\n",
    "       'Расшифровка ТН4', 'Расшифровка ТН2', 'Товар и код ТН ВЭД (10 знаков)',\n",
    "       'Товар и код ТН ВЭД (6 знаков)', 'Товар и код ТН ВЭД (4 знака)','Нацпроект 2021 v1', 'Отрасль 2021 v1','Товар (2 знака)'], inplace=True, axis=1)\n",
    "df_for_work.shape"
   ]
  },
  {
   "cell_type": "code",
   "execution_count": 8,
   "metadata": {},
   "outputs": [
    {
     "data": {
      "text/plain": [
       "Index(['Страна', ' Москва 2015 $', ' Москва 2016 $', ' Москва 2017 $',\n",
       "       ' Москва 2018 $', ' Москва 2019 $', ' Москва 2020 $', ' Москва 2021 $'],\n",
       "      dtype='object')"
      ]
     },
     "execution_count": 8,
     "metadata": {},
     "output_type": "execute_result"
    }
   ],
   "source": [
    "df_for_work.columns"
   ]
  },
  {
   "cell_type": "code",
   "execution_count": 9,
   "metadata": {},
   "outputs": [],
   "source": [
    "def get_import_status(country):\n",
    "    if country in unfriendly_countries_list:\n",
    "        return \"недруг\"\n",
    "    else:\n",
    "        return \"друг\"\n",
    "    \n",
    "df_for_work['Статус'] = df_for_work['Страна'].apply(get_import_status)"
   ]
  },
  {
   "cell_type": "code",
   "execution_count": 73,
   "metadata": {},
   "outputs": [
    {
     "data": {
      "text/html": [
       "<div>\n",
       "<style scoped>\n",
       "    .dataframe tbody tr th:only-of-type {\n",
       "        vertical-align: middle;\n",
       "    }\n",
       "\n",
       "    .dataframe tbody tr th {\n",
       "        vertical-align: top;\n",
       "    }\n",
       "\n",
       "    .dataframe thead th {\n",
       "        text-align: right;\n",
       "    }\n",
       "</style>\n",
       "<table border=\"1\" class=\"dataframe\">\n",
       "  <thead>\n",
       "    <tr style=\"text-align: right;\">\n",
       "      <th></th>\n",
       "      <th>Страна</th>\n",
       "      <th>Объем за все периоды</th>\n",
       "    </tr>\n",
       "  </thead>\n",
       "  <tbody>\n",
       "    <tr>\n",
       "      <th>45</th>\n",
       "      <td>CN-КИТАЙ</td>\n",
       "      <td>1.561831e+11</td>\n",
       "    </tr>\n",
       "    <tr>\n",
       "      <th>53</th>\n",
       "      <td>DE-ГЕРМАНИЯ</td>\n",
       "      <td>1.151198e+11</td>\n",
       "    </tr>\n",
       "    <tr>\n",
       "      <th>162</th>\n",
       "      <td>NL-НИДЕРЛАНДЫ</td>\n",
       "      <td>1.010055e+11</td>\n",
       "    </tr>\n",
       "    <tr>\n",
       "      <th>106</th>\n",
       "      <td>IT-ИТАЛИЯ</td>\n",
       "      <td>8.020817e+10</td>\n",
       "    </tr>\n",
       "    <tr>\n",
       "      <th>216</th>\n",
       "      <td>TR-ТУРЦИЯ</td>\n",
       "      <td>6.936983e+10</td>\n",
       "    </tr>\n",
       "    <tr>\n",
       "      <th>34</th>\n",
       "      <td>BY-БЕЛАРУСЬ</td>\n",
       "      <td>6.241855e+10</td>\n",
       "    </tr>\n",
       "    <tr>\n",
       "      <th>75</th>\n",
       "      <td>GB-СОЕДИНЕННОЕ КОРОЛЕВСТВО</td>\n",
       "      <td>5.558409e+10</td>\n",
       "    </tr>\n",
       "    <tr>\n",
       "      <th>176</th>\n",
       "      <td>PL-ПОЛЬША</td>\n",
       "      <td>4.505969e+10</td>\n",
       "    </tr>\n",
       "    <tr>\n",
       "      <th>222</th>\n",
       "      <td>US-СОЕДИНЕННЫЕ ШТАТЫ</td>\n",
       "      <td>2.965639e+10</td>\n",
       "    </tr>\n",
       "    <tr>\n",
       "      <th>67</th>\n",
       "      <td>FI-ФИНЛЯНДИЯ</td>\n",
       "      <td>2.783914e+10</td>\n",
       "    </tr>\n",
       "  </tbody>\n",
       "</table>\n",
       "</div>"
      ],
      "text/plain": [
       "                         Страна  Объем за все периоды\n",
       "45                     CN-КИТАЙ          1.561831e+11\n",
       "53                  DE-ГЕРМАНИЯ          1.151198e+11\n",
       "162               NL-НИДЕРЛАНДЫ          1.010055e+11\n",
       "106                   IT-ИТАЛИЯ          8.020817e+10\n",
       "216                   TR-ТУРЦИЯ          6.936983e+10\n",
       "34                  BY-БЕЛАРУСЬ          6.241855e+10\n",
       "75   GB-СОЕДИНЕННОЕ КОРОЛЕВСТВО          5.558409e+10\n",
       "176                   PL-ПОЛЬША          4.505969e+10\n",
       "222        US-СОЕДИНЕННЫЕ ШТАТЫ          2.965639e+10\n",
       "67                 FI-ФИНЛЯНДИЯ          2.783914e+10"
      ]
     },
     "execution_count": 73,
     "metadata": {},
     "output_type": "execute_result"
    }
   ],
   "source": [
    "country_vol = df_for_work.groupby(by=['Страна'],as_index=False).sum()\n",
    "country_vol['Объем за все периоды'] = country_vol[period_list].sum(axis=1)\n",
    "country_vol = country_vol[['Страна','Объем за все периоды']].sort_values(by='Объем за все периоды',ascending=False)\n",
    "country_vol.head(10) #топ-10 стран по объемам экспорта в них"
   ]
  },
  {
   "cell_type": "code",
   "execution_count": 21,
   "metadata": {},
   "outputs": [],
   "source": [
    "df_status = df_for_work.drop(['Страна'],axis=1)\n"
   ]
  },
  {
   "cell_type": "code",
   "execution_count": 32,
   "metadata": {},
   "outputs": [
    {
     "data": {
      "text/html": [
       "<div>\n",
       "<style scoped>\n",
       "    .dataframe tbody tr th:only-of-type {\n",
       "        vertical-align: middle;\n",
       "    }\n",
       "\n",
       "    .dataframe tbody tr th {\n",
       "        vertical-align: top;\n",
       "    }\n",
       "\n",
       "    .dataframe thead th {\n",
       "        text-align: right;\n",
       "    }\n",
       "</style>\n",
       "<table border=\"1\" class=\"dataframe\">\n",
       "  <thead>\n",
       "    <tr style=\"text-align: right;\">\n",
       "      <th></th>\n",
       "      <th>Москва 2015 $</th>\n",
       "      <th>Москва 2016 $</th>\n",
       "      <th>Москва 2017 $</th>\n",
       "      <th>Москва 2018 $</th>\n",
       "      <th>Москва 2019 $</th>\n",
       "      <th>Москва 2020 $</th>\n",
       "      <th>Москва 2021 $</th>\n",
       "    </tr>\n",
       "    <tr>\n",
       "      <th>Статус</th>\n",
       "      <th></th>\n",
       "      <th></th>\n",
       "      <th></th>\n",
       "      <th></th>\n",
       "      <th></th>\n",
       "      <th></th>\n",
       "      <th></th>\n",
       "    </tr>\n",
       "  </thead>\n",
       "  <tbody>\n",
       "    <tr>\n",
       "      <th>друг</th>\n",
       "      <td>5.009261e+10</td>\n",
       "      <td>4.667699e+10</td>\n",
       "      <td>5.898768e+10</td>\n",
       "      <td>7.520264e+10</td>\n",
       "      <td>7.289676e+10</td>\n",
       "      <td>5.395694e+10</td>\n",
       "      <td>7.979830e+10</td>\n",
       "    </tr>\n",
       "    <tr>\n",
       "      <th>недруг</th>\n",
       "      <td>1.028142e+11</td>\n",
       "      <td>7.715552e+10</td>\n",
       "      <td>9.563519e+10</td>\n",
       "      <td>1.269808e+11</td>\n",
       "      <td>1.162145e+11</td>\n",
       "      <td>8.607643e+10</td>\n",
       "      <td>1.326514e+11</td>\n",
       "    </tr>\n",
       "  </tbody>\n",
       "</table>\n",
       "</div>"
      ],
      "text/plain": [
       "         Москва 2015 $   Москва 2016 $   Москва 2017 $   Москва 2018 $  \\\n",
       "Статус                                                                   \n",
       "друг      5.009261e+10    4.667699e+10    5.898768e+10    7.520264e+10   \n",
       "недруг    1.028142e+11    7.715552e+10    9.563519e+10    1.269808e+11   \n",
       "\n",
       "         Москва 2019 $   Москва 2020 $   Москва 2021 $  \n",
       "Статус                                                  \n",
       "друг      7.289676e+10    5.395694e+10    7.979830e+10  \n",
       "недруг    1.162145e+11    8.607643e+10    1.326514e+11  "
      ]
     },
     "execution_count": 32,
     "metadata": {},
     "output_type": "execute_result"
    }
   ],
   "source": [
    "df_status_vol = df_status.groupby(by='Статус').sum()\n",
    "df_status_vol # объемы по годам "
   ]
  },
  {
   "cell_type": "code",
   "execution_count": 29,
   "metadata": {},
   "outputs": [],
   "source": [
    "period_list = [' Москва 2015 $', ' Москва 2016 $', ' Москва 2017 $',\n",
    "       ' Москва 2018 $', ' Москва 2019 $', ' Москва 2020 $', ' Москва 2021 $']"
   ]
  },
  {
   "cell_type": "code",
   "execution_count": 30,
   "metadata": {},
   "outputs": [
    {
     "data": {
      "text/plain": [
       "Статус\n",
       "друг      4.376119e+11\n",
       "недруг    7.375280e+11\n",
       "dtype: float64"
      ]
     },
     "execution_count": 30,
     "metadata": {},
     "output_type": "execute_result"
    }
   ],
   "source": [
    "drug_vol = df_status_vol[period_list].sum(axis=1)\n",
    "drug_vol # суммарные объемы по друг/недруг странам"
   ]
  }
 ],
 "metadata": {
  "kernelspec": {
   "display_name": "Python 3.9.10 64-bit",
   "language": "python",
   "name": "python3"
  },
  "language_info": {
   "codemirror_mode": {
    "name": "ipython",
    "version": 3
   },
   "file_extension": ".py",
   "mimetype": "text/x-python",
   "name": "python",
   "nbconvert_exporter": "python",
   "pygments_lexer": "ipython3",
   "version": "3.9.10"
  },
  "orig_nbformat": 4,
  "vscode": {
   "interpreter": {
    "hash": "0d591c6e422414675974e227c13f5382000c440fedd3c5006ef2be5d887f0ba7"
   }
  }
 },
 "nbformat": 4,
 "nbformat_minor": 2
}
