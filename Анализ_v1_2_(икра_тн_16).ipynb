{
  "nbformat": 4,
  "nbformat_minor": 0,
  "metadata": {
    "colab": {
      "provenance": []
    },
    "kernelspec": {
      "name": "python3",
      "display_name": "Python 3"
    },
    "language_info": {
      "name": "python"
    }
  },
  "cells": [
    {
      "cell_type": "code",
      "execution_count": null,
      "metadata": {
        "id": "OjV5Xv2Bp3q0"
      },
      "outputs": [],
      "source": [
        "import numpy as np\n",
        "import pandas as pd\n",
        "import seaborn as sns\n",
        "import matplotlib.pyplot as plt"
      ]
    },
    {
      "cell_type": "code",
      "source": [
        "with open('fts_data.csv') as f:\n",
        "    print(f)"
      ],
      "metadata": {
        "colab": {
          "base_uri": "https://localhost:8080/"
        },
        "id": "Ybq0OEEOupb8",
        "outputId": "e4706505-4854-4da3-d98c-cf98cc3d759d"
      },
      "execution_count": null,
      "outputs": [
        {
          "output_type": "stream",
          "name": "stdout",
          "text": [
            "<_io.TextIOWrapper name='fts_data.csv' mode='r' encoding='UTF-8'>\n"
          ]
        }
      ]
    },
    {
      "cell_type": "code",
      "source": [
        "df = pd.read_csv('fts_data.csv', encoding='utf-8', engine='python', decimal=',')\n",
        "df.head()"
      ],
      "metadata": {
        "colab": {
          "base_uri": "https://localhost:8080/",
          "height": 664
        },
        "id": "N_46tw3wqud9",
        "outputId": "5cfbbf78-3d14-424b-bdb0-543101eefa0d"
      },
      "execution_count": null,
      "outputs": [
        {
          "output_type": "execute_result",
          "data": {
            "text/plain": [
              "       Страна Регион РЭЦ Регионы (РЭЦ) и Союзы   ТН ВЭД 10   Москва 2015 $  \\\n",
              "0  AB-АБХАЗИЯ        СНГ                Другие  0101299000             NaN   \n",
              "1  AB-АБХАЗИЯ        СНГ                Другие  0102211000             NaN   \n",
              "2  AB-АБХАЗИЯ        СНГ                Другие  0104108000             NaN   \n",
              "3  AB-АБХАЗИЯ        СНГ                Другие  0104209000             NaN   \n",
              "4  AB-АБХАЗИЯ        СНГ                Другие  0105111900             NaN   \n",
              "\n",
              "    Москва 2016 $   Москва 2017 $   Москва 2018 $   Москва 2019 $  \\\n",
              "0             NaN             NaN             NaN             NaN   \n",
              "1             NaN             NaN             NaN             NaN   \n",
              "2             NaN             NaN             NaN             NaN   \n",
              "3             NaN             NaN             NaN             NaN   \n",
              "4             NaN             NaN             NaN             NaN   \n",
              "\n",
              "    Москва 2020 $  ...                                   Расшифровка ТН10  \\\n",
              "0             NaN  ...                        Прочие лошади живые: прочие   \n",
              "1             NaN  ...  Домашний крупный рогатый скот живой, чистопоро...   \n",
              "2             NaN  ...                                  Прочие овцы живые   \n",
              "3             NaN  ...                                  Прочие козы живые   \n",
              "4             NaN  ...  Прочие цыплята племенного разведения [прародит...   \n",
              "\n",
              "                                Расшифровка ТН6  \\\n",
              "0                                Лошади обычные   \n",
              "1  Чистопородный племенной крупный рогатый скот   \n",
              "2                                          Овцы   \n",
              "3                                          Козы   \n",
              "4                                 Куры до 185 г   \n",
              "\n",
              "                                     Расшифровка ТН4 Расшифровка ТН2  \\\n",
              "0                           Лошади, ослы и их помеси  Живые животные   \n",
              "1                         Крупный рогатый скот живой  Живые животные   \n",
              "2                                        Овцы и козы  Живые животные   \n",
              "3                                        Овцы и козы  Живые животные   \n",
              "4  Домашняя птица живая, то есть куры домашние (g...  Живые животные   \n",
              "\n",
              "                      Товар и код ТН ВЭД (10 знаков)  \\\n",
              "0             0101299000-Прочие лошади живые: прочие   \n",
              "1  0102211000-Домашний крупный рогатый скот живой...   \n",
              "2                       0104108000-Прочие овцы живые   \n",
              "3                       0104209000-Прочие козы живые   \n",
              "4  0105111900-Прочие цыплята племенного разведени...   \n",
              "\n",
              "                       Товар и код ТН ВЭД (6 знаков)  \\\n",
              "0                              010129-Лошади обычные   \n",
              "1  010221-Чистопородный племенной крупный рогатый...   \n",
              "2                                        010410-Овцы   \n",
              "3                                        010420-Козы   \n",
              "4                               010511-Куры до 185 г   \n",
              "\n",
              "                        Товар и код ТН ВЭД (4 знака)    Товар (2 знака)  \\\n",
              "0                      0101-Лошади, ослы и их помеси  01-Живые животные   \n",
              "1                    0102-Крупный рогатый скот живой  01-Живые животные   \n",
              "2                                   0104-Овцы и козы  01-Живые животные   \n",
              "3                                   0104-Овцы и козы  01-Живые животные   \n",
              "4  0105-Домашняя птица живая, то есть куры домашн...  01-Живые животные   \n",
              "\n",
              "  Нацпроект 2021 v1                Отрасль 2021 v1  \n",
              "0               АПК  Продукция сельского хозяйства  \n",
              "1               АПК  Продукция сельского хозяйства  \n",
              "2               АПК  Продукция сельского хозяйства  \n",
              "3               АПК  Продукция сельского хозяйства  \n",
              "4               АПК  Продукция сельского хозяйства  \n",
              "\n",
              "[5 rows x 24 columns]"
            ],
            "text/html": [
              "\n",
              "  <div id=\"df-59e6784a-b247-4b86-a798-937fa3caa194\">\n",
              "    <div class=\"colab-df-container\">\n",
              "      <div>\n",
              "<style scoped>\n",
              "    .dataframe tbody tr th:only-of-type {\n",
              "        vertical-align: middle;\n",
              "    }\n",
              "\n",
              "    .dataframe tbody tr th {\n",
              "        vertical-align: top;\n",
              "    }\n",
              "\n",
              "    .dataframe thead th {\n",
              "        text-align: right;\n",
              "    }\n",
              "</style>\n",
              "<table border=\"1\" class=\"dataframe\">\n",
              "  <thead>\n",
              "    <tr style=\"text-align: right;\">\n",
              "      <th></th>\n",
              "      <th>Страна</th>\n",
              "      <th>Регион РЭЦ</th>\n",
              "      <th>Регионы (РЭЦ) и Союзы</th>\n",
              "      <th>ТН ВЭД 10</th>\n",
              "      <th>Москва 2015 $</th>\n",
              "      <th>Москва 2016 $</th>\n",
              "      <th>Москва 2017 $</th>\n",
              "      <th>Москва 2018 $</th>\n",
              "      <th>Москва 2019 $</th>\n",
              "      <th>Москва 2020 $</th>\n",
              "      <th>...</th>\n",
              "      <th>Расшифровка ТН10</th>\n",
              "      <th>Расшифровка ТН6</th>\n",
              "      <th>Расшифровка ТН4</th>\n",
              "      <th>Расшифровка ТН2</th>\n",
              "      <th>Товар и код ТН ВЭД (10 знаков)</th>\n",
              "      <th>Товар и код ТН ВЭД (6 знаков)</th>\n",
              "      <th>Товар и код ТН ВЭД (4 знака)</th>\n",
              "      <th>Товар (2 знака)</th>\n",
              "      <th>Нацпроект 2021 v1</th>\n",
              "      <th>Отрасль 2021 v1</th>\n",
              "    </tr>\n",
              "  </thead>\n",
              "  <tbody>\n",
              "    <tr>\n",
              "      <th>0</th>\n",
              "      <td>AB-АБХАЗИЯ</td>\n",
              "      <td>СНГ</td>\n",
              "      <td>Другие</td>\n",
              "      <td>0101299000</td>\n",
              "      <td>NaN</td>\n",
              "      <td>NaN</td>\n",
              "      <td>NaN</td>\n",
              "      <td>NaN</td>\n",
              "      <td>NaN</td>\n",
              "      <td>NaN</td>\n",
              "      <td>...</td>\n",
              "      <td>Прочие лошади живые: прочие</td>\n",
              "      <td>Лошади обычные</td>\n",
              "      <td>Лошади, ослы и их помеси</td>\n",
              "      <td>Живые животные</td>\n",
              "      <td>0101299000-Прочие лошади живые: прочие</td>\n",
              "      <td>010129-Лошади обычные</td>\n",
              "      <td>0101-Лошади, ослы и их помеси</td>\n",
              "      <td>01-Живые животные</td>\n",
              "      <td>АПК</td>\n",
              "      <td>Продукция сельского хозяйства</td>\n",
              "    </tr>\n",
              "    <tr>\n",
              "      <th>1</th>\n",
              "      <td>AB-АБХАЗИЯ</td>\n",
              "      <td>СНГ</td>\n",
              "      <td>Другие</td>\n",
              "      <td>0102211000</td>\n",
              "      <td>NaN</td>\n",
              "      <td>NaN</td>\n",
              "      <td>NaN</td>\n",
              "      <td>NaN</td>\n",
              "      <td>NaN</td>\n",
              "      <td>NaN</td>\n",
              "      <td>...</td>\n",
              "      <td>Домашний крупный рогатый скот живой, чистопоро...</td>\n",
              "      <td>Чистопородный племенной крупный рогатый скот</td>\n",
              "      <td>Крупный рогатый скот живой</td>\n",
              "      <td>Живые животные</td>\n",
              "      <td>0102211000-Домашний крупный рогатый скот живой...</td>\n",
              "      <td>010221-Чистопородный племенной крупный рогатый...</td>\n",
              "      <td>0102-Крупный рогатый скот живой</td>\n",
              "      <td>01-Живые животные</td>\n",
              "      <td>АПК</td>\n",
              "      <td>Продукция сельского хозяйства</td>\n",
              "    </tr>\n",
              "    <tr>\n",
              "      <th>2</th>\n",
              "      <td>AB-АБХАЗИЯ</td>\n",
              "      <td>СНГ</td>\n",
              "      <td>Другие</td>\n",
              "      <td>0104108000</td>\n",
              "      <td>NaN</td>\n",
              "      <td>NaN</td>\n",
              "      <td>NaN</td>\n",
              "      <td>NaN</td>\n",
              "      <td>NaN</td>\n",
              "      <td>NaN</td>\n",
              "      <td>...</td>\n",
              "      <td>Прочие овцы живые</td>\n",
              "      <td>Овцы</td>\n",
              "      <td>Овцы и козы</td>\n",
              "      <td>Живые животные</td>\n",
              "      <td>0104108000-Прочие овцы живые</td>\n",
              "      <td>010410-Овцы</td>\n",
              "      <td>0104-Овцы и козы</td>\n",
              "      <td>01-Живые животные</td>\n",
              "      <td>АПК</td>\n",
              "      <td>Продукция сельского хозяйства</td>\n",
              "    </tr>\n",
              "    <tr>\n",
              "      <th>3</th>\n",
              "      <td>AB-АБХАЗИЯ</td>\n",
              "      <td>СНГ</td>\n",
              "      <td>Другие</td>\n",
              "      <td>0104209000</td>\n",
              "      <td>NaN</td>\n",
              "      <td>NaN</td>\n",
              "      <td>NaN</td>\n",
              "      <td>NaN</td>\n",
              "      <td>NaN</td>\n",
              "      <td>NaN</td>\n",
              "      <td>...</td>\n",
              "      <td>Прочие козы живые</td>\n",
              "      <td>Козы</td>\n",
              "      <td>Овцы и козы</td>\n",
              "      <td>Живые животные</td>\n",
              "      <td>0104209000-Прочие козы живые</td>\n",
              "      <td>010420-Козы</td>\n",
              "      <td>0104-Овцы и козы</td>\n",
              "      <td>01-Живые животные</td>\n",
              "      <td>АПК</td>\n",
              "      <td>Продукция сельского хозяйства</td>\n",
              "    </tr>\n",
              "    <tr>\n",
              "      <th>4</th>\n",
              "      <td>AB-АБХАЗИЯ</td>\n",
              "      <td>СНГ</td>\n",
              "      <td>Другие</td>\n",
              "      <td>0105111900</td>\n",
              "      <td>NaN</td>\n",
              "      <td>NaN</td>\n",
              "      <td>NaN</td>\n",
              "      <td>NaN</td>\n",
              "      <td>NaN</td>\n",
              "      <td>NaN</td>\n",
              "      <td>...</td>\n",
              "      <td>Прочие цыплята племенного разведения [прародит...</td>\n",
              "      <td>Куры до 185 г</td>\n",
              "      <td>Домашняя птица живая, то есть куры домашние (g...</td>\n",
              "      <td>Живые животные</td>\n",
              "      <td>0105111900-Прочие цыплята племенного разведени...</td>\n",
              "      <td>010511-Куры до 185 г</td>\n",
              "      <td>0105-Домашняя птица живая, то есть куры домашн...</td>\n",
              "      <td>01-Живые животные</td>\n",
              "      <td>АПК</td>\n",
              "      <td>Продукция сельского хозяйства</td>\n",
              "    </tr>\n",
              "  </tbody>\n",
              "</table>\n",
              "<p>5 rows × 24 columns</p>\n",
              "</div>\n",
              "      <button class=\"colab-df-convert\" onclick=\"convertToInteractive('df-59e6784a-b247-4b86-a798-937fa3caa194')\"\n",
              "              title=\"Convert this dataframe to an interactive table.\"\n",
              "              style=\"display:none;\">\n",
              "        \n",
              "  <svg xmlns=\"http://www.w3.org/2000/svg\" height=\"24px\"viewBox=\"0 0 24 24\"\n",
              "       width=\"24px\">\n",
              "    <path d=\"M0 0h24v24H0V0z\" fill=\"none\"/>\n",
              "    <path d=\"M18.56 5.44l.94 2.06.94-2.06 2.06-.94-2.06-.94-.94-2.06-.94 2.06-2.06.94zm-11 1L8.5 8.5l.94-2.06 2.06-.94-2.06-.94L8.5 2.5l-.94 2.06-2.06.94zm10 10l.94 2.06.94-2.06 2.06-.94-2.06-.94-.94-2.06-.94 2.06-2.06.94z\"/><path d=\"M17.41 7.96l-1.37-1.37c-.4-.4-.92-.59-1.43-.59-.52 0-1.04.2-1.43.59L10.3 9.45l-7.72 7.72c-.78.78-.78 2.05 0 2.83L4 21.41c.39.39.9.59 1.41.59.51 0 1.02-.2 1.41-.59l7.78-7.78 2.81-2.81c.8-.78.8-2.07 0-2.86zM5.41 20L4 18.59l7.72-7.72 1.47 1.35L5.41 20z\"/>\n",
              "  </svg>\n",
              "      </button>\n",
              "      \n",
              "  <style>\n",
              "    .colab-df-container {\n",
              "      display:flex;\n",
              "      flex-wrap:wrap;\n",
              "      gap: 12px;\n",
              "    }\n",
              "\n",
              "    .colab-df-convert {\n",
              "      background-color: #E8F0FE;\n",
              "      border: none;\n",
              "      border-radius: 50%;\n",
              "      cursor: pointer;\n",
              "      display: none;\n",
              "      fill: #1967D2;\n",
              "      height: 32px;\n",
              "      padding: 0 0 0 0;\n",
              "      width: 32px;\n",
              "    }\n",
              "\n",
              "    .colab-df-convert:hover {\n",
              "      background-color: #E2EBFA;\n",
              "      box-shadow: 0px 1px 2px rgba(60, 64, 67, 0.3), 0px 1px 3px 1px rgba(60, 64, 67, 0.15);\n",
              "      fill: #174EA6;\n",
              "    }\n",
              "\n",
              "    [theme=dark] .colab-df-convert {\n",
              "      background-color: #3B4455;\n",
              "      fill: #D2E3FC;\n",
              "    }\n",
              "\n",
              "    [theme=dark] .colab-df-convert:hover {\n",
              "      background-color: #434B5C;\n",
              "      box-shadow: 0px 1px 3px 1px rgba(0, 0, 0, 0.15);\n",
              "      filter: drop-shadow(0px 1px 2px rgba(0, 0, 0, 0.3));\n",
              "      fill: #FFFFFF;\n",
              "    }\n",
              "  </style>\n",
              "\n",
              "      <script>\n",
              "        const buttonEl =\n",
              "          document.querySelector('#df-59e6784a-b247-4b86-a798-937fa3caa194 button.colab-df-convert');\n",
              "        buttonEl.style.display =\n",
              "          google.colab.kernel.accessAllowed ? 'block' : 'none';\n",
              "\n",
              "        async function convertToInteractive(key) {\n",
              "          const element = document.querySelector('#df-59e6784a-b247-4b86-a798-937fa3caa194');\n",
              "          const dataTable =\n",
              "            await google.colab.kernel.invokeFunction('convertToInteractive',\n",
              "                                                     [key], {});\n",
              "          if (!dataTable) return;\n",
              "\n",
              "          const docLinkHtml = 'Like what you see? Visit the ' +\n",
              "            '<a target=\"_blank\" href=https://colab.research.google.com/notebooks/data_table.ipynb>data table notebook</a>'\n",
              "            + ' to learn more about interactive tables.';\n",
              "          element.innerHTML = '';\n",
              "          dataTable['output_type'] = 'display_data';\n",
              "          await google.colab.output.renderOutput(dataTable, element);\n",
              "          const docLink = document.createElement('div');\n",
              "          docLink.innerHTML = docLinkHtml;\n",
              "          element.appendChild(docLink);\n",
              "        }\n",
              "      </script>\n",
              "    </div>\n",
              "  </div>\n",
              "  "
            ]
          },
          "metadata": {},
          "execution_count": 3
        }
      ]
    },
    {
      "cell_type": "code",
      "source": [
        "df.info()"
      ],
      "metadata": {
        "colab": {
          "base_uri": "https://localhost:8080/"
        },
        "id": "6KXoBytr6vNS",
        "outputId": "097fed9a-bb4a-49a8-e636-662dbc38f1c0"
      },
      "execution_count": null,
      "outputs": [
        {
          "output_type": "stream",
          "name": "stdout",
          "text": [
            "<class 'pandas.core.frame.DataFrame'>\n",
            "RangeIndex: 291947 entries, 0 to 291946\n",
            "Data columns (total 24 columns):\n",
            " #   Column                          Non-Null Count   Dtype  \n",
            "---  ------                          --------------   -----  \n",
            " 0   Страна                          291947 non-null  object \n",
            " 1   Регион РЭЦ                      291942 non-null  object \n",
            " 2   Регионы (РЭЦ) и Союзы           291942 non-null  object \n",
            " 3   ТН ВЭД 10                       291947 non-null  object \n",
            " 4    Москва 2015 $                  55706 non-null   float64\n",
            " 5    Москва 2016 $                  61333 non-null   float64\n",
            " 6    Москва 2017 $                  64535 non-null   float64\n",
            " 7    Москва 2018 $                  68572 non-null   float64\n",
            " 8    Москва 2019 $                  71214 non-null   float64\n",
            " 9    Москва 2020 $                  67396 non-null   float64\n",
            " 10   Москва 2021 $                  78220 non-null   object \n",
            " 11  ТНВЭД 6                         291947 non-null  object \n",
            " 12  ТНВЭД 4                         291947 non-null  object \n",
            " 13  ТНВЭД 2                         291947 non-null  object \n",
            " 14  Расшифровка ТН10                291947 non-null  object \n",
            " 15  Расшифровка ТН6                 291947 non-null  object \n",
            " 16  Расшифровка ТН4                 291947 non-null  object \n",
            " 17  Расшифровка ТН2                 291947 non-null  object \n",
            " 18  Товар и код ТН ВЭД (10 знаков)  291947 non-null  object \n",
            " 19  Товар и код ТН ВЭД (6 знаков)   291947 non-null  object \n",
            " 20  Товар и код ТН ВЭД (4 знака)    291947 non-null  object \n",
            " 21  Товар (2 знака)                 291947 non-null  object \n",
            " 22  Нацпроект 2021 v1               291947 non-null  object \n",
            " 23  Отрасль 2021 v1                 291947 non-null  object \n",
            "dtypes: float64(6), object(18)\n",
            "memory usage: 53.5+ MB\n"
          ]
        }
      ]
    },
    {
      "cell_type": "code",
      "source": [
        "df[' Москва 2021 $'] = df[' Москва 2021 $'].apply(lambda x: str(x).replace('\\xa0','').replace(',','.').replace('-','0'))\n",
        "df[' Москва 2021 $'] = df[' Москва 2021 $'].astype(float)"
      ],
      "metadata": {
        "id": "4lGDYazgT0ZG"
      },
      "execution_count": null,
      "outputs": []
    },
    {
      "cell_type": "code",
      "source": [
        "df.fillna(0, inplace=True)"
      ],
      "metadata": {
        "id": "XQ64ncnGCFjJ"
      },
      "execution_count": null,
      "outputs": []
    },
    {
      "cell_type": "code",
      "source": [
        "df['Страна'] = df['Страна'].apply(lambda x: str(x).replace('(','').replace(')','')) #есть, например, FM-МИКРОНЕЗИЯ, ФЕДЕРАТИВНЫЕ ШТАТЫ и FM-МИКРОНЕЗИЯ, (ФЕДЕРАТИВНЫЕ ШТАТЫ)"
      ],
      "metadata": {
        "id": "-pqdLFI_6eKS"
      },
      "execution_count": null,
      "outputs": []
    },
    {
      "cell_type": "code",
      "source": [
        "unfriendly_countries_list = ['AU-АВСТРАЛИЯ', 'AL-АЛБАНИЯ','AD-АНДОРРА','BS-БАГАМЫ','GB-СОЕДИНЕННОЕ КОРОЛЕВСТВО','IS-ИСЛАНДИЯ','CA-КАНАДА','LI-ЛИХТЕНШТЕЙН','FM-МИКРОНЕЗИЯ','MC-МОНАКО','NZ-НОВАЯ ЗЕЛАНДИЯ','NO-НОРВЕГИЯ','KR-КОРЕЯ, РЕСПУБЛИКА','SM-САН-МАРИНО','MK-РЕСПУБЛИКА МАКЕДОНИЯ','SG-СИНГАПУР','US-СОЕДИНЕННЫЕ ШТАТЫ','TW-ТАЙВАНЬ (КИТАЙ)','UA-УКРАИНА','ME-ЧЕРНОГОРИЯ','CH-ШВЕЙЦАРИЯ','JP-ЯПОНИЯ','JE-ДЖЕРСИ','GG-ГЕРНСИ','IM-ОСТРОВ МЭН','AI-АНГИЛЬЯ','VG-ВИРГИНСКИЕ ОСТРОВА (БРИТАНСКИЕ)','GI-ГИБРАЛТАР','AT-АВСТРИЯ','BE-БЕЛЬГИЯ','BG-БОЛГАРИЯ','HU-ВЕНГРИЯ','DE-ГЕРМАНИЯ','GR-ГРЕЦИЯ','DK-ДАНИЯ','IE-ИРЛАНДИЯ','ES-ИСПАНИЯ','IT-ИТАЛИЯ','CY-КИПР','LV-ЛАТВИЯ','LT-ЛИТВА','LU-ЛЮКСЕМБУРГ','MT-МАЛЬТА','NL-НИДЕРЛАНДЫ','PL-ПОЛЬША','PT-ПОРТУГАЛИЯ','RO-РУМЫНИЯ','SK-СЛОВАКИЯ','SI-СЛОВЕНИЯ','FI-ФИНЛЯНДИЯ','FR-ФРАНЦИЯ','HR-ХОРВАТИЯ','CZ-ЧЕХИЯ','SE-ШВЕЦИЯ','EE-ЭСТОНИЯ','VI-ВИРГИНСКИЕ ОСТРОВА США']"
      ],
      "metadata": {
        "id": "sESj6s51r7xV"
      },
      "execution_count": null,
      "outputs": []
    },
    {
      "cell_type": "code",
      "source": [
        "fish_2  = df[df['ТНВЭД 2']=='16']\n",
        "fish_2.drop(columns = ['Регион РЭЦ', 'Регионы (РЭЦ) и Союзы', 'Расшифровка ТН2', 'Товар (2 знака)', 'Нацпроект 2021 v1', 'Отрасль 2021 v1'], axis=1, inplace=True)"
      ],
      "metadata": {
        "id": "2J8aiEJCk1QQ"
      },
      "execution_count": null,
      "outputs": []
    },
    {
      "cell_type": "code",
      "source": [
        "print(f\"Товар (4 знака) уникальные значения: {len(fish_2['Расшифровка ТН4'].unique())}\")"
      ],
      "metadata": {
        "colab": {
          "base_uri": "https://localhost:8080/"
        },
        "id": "UtEjz6Izmc-w",
        "outputId": "07402955-a1c1-4e9e-f11e-22a8194aa98b"
      },
      "execution_count": null,
      "outputs": [
        {
          "output_type": "stream",
          "name": "stdout",
          "text": [
            "Товар (4 знака) уникальные значения: 6\n"
          ]
        }
      ]
    },
    {
      "cell_type": "code",
      "source": [
        "fish_2['Расшифровка ТН4'].unique()"
      ],
      "metadata": {
        "colab": {
          "base_uri": "https://localhost:8080/"
        },
        "id": "DEhSw11Ym0Ho",
        "outputId": "9d5e45ea-6ee1-43d6-8199-e8823b864516"
      },
      "execution_count": null,
      "outputs": [
        {
          "output_type": "execute_result",
          "data": {
            "text/plain": [
              "array(['Колбасные изделия', 'Готовые продукты из мяса',\n",
              "       'Рыбные консервы и другие готовые продукты',\n",
              "       'Консервы из водных беспозвоночных',\n",
              "       'Экстракты и соки из мяса, рыбы и водных животных',\n",
              "       '16-NNN-неизвестный товар'], dtype=object)"
            ]
          },
          "metadata": {},
          "execution_count": 97
        }
      ]
    },
    {
      "cell_type": "code",
      "source": [
        "fish_2 = fish_2[fish_2['Расшифровка ТН4']!='16-NNN-неизвестный товар']"
      ],
      "metadata": {
        "id": "AvGjwUswm6nQ"
      },
      "execution_count": null,
      "outputs": []
    },
    {
      "cell_type": "code",
      "source": [
        "fish_10 = fish_2[['Страна', ' Москва 2015 $', ' Москва 2016 $',\n",
        "       ' Москва 2017 $', ' Москва 2018 $', ' Москва 2019 $', ' Москва 2020 $',\n",
        "       ' Москва 2021 $','Товар и код ТН ВЭД (10 знаков)']]"
      ],
      "metadata": {
        "id": "qnv0m2kpnWBX"
      },
      "execution_count": null,
      "outputs": []
    },
    {
      "cell_type": "code",
      "source": [
        "len(fish_10['Товар и код ТН ВЭД (10 знаков)'].unique())"
      ],
      "metadata": {
        "colab": {
          "base_uri": "https://localhost:8080/"
        },
        "id": "DXGF7P16o6dt",
        "outputId": "e7dc6b43-35c7-4cf6-f2ba-a9a013612f35"
      },
      "execution_count": null,
      "outputs": [
        {
          "output_type": "execute_result",
          "data": {
            "text/plain": [
              "117"
            ]
          },
          "metadata": {},
          "execution_count": 100
        }
      ]
    },
    {
      "cell_type": "code",
      "source": [
        "ved_list = fish_10['Товар и код ТН ВЭД (10 знаков)'].unique()"
      ],
      "metadata": {
        "id": "2oFh9_FX9rLR"
      },
      "execution_count": null,
      "outputs": []
    },
    {
      "cell_type": "code",
      "source": [
        "fish_10.drop_duplicates(inplace=True)"
      ],
      "metadata": {
        "id": "Na9-KT7QS7EX"
      },
      "execution_count": null,
      "outputs": []
    },
    {
      "cell_type": "code",
      "source": [
        "best_exp_fish = pd.DataFrame(columns=['tn_ved', 'period', '1_country', '1_country_sum', '1_country_weight', '2_country', '2_country_sum', '2_country_weight', '3_country', '3_country_sum', '3_country_weight'])"
      ],
      "metadata": {
        "id": "lr5_LUiCaJSN"
      },
      "execution_count": null,
      "outputs": []
    },
    {
      "cell_type": "code",
      "source": [
        "period_list = [' Москва 2015 $', ' Москва 2016 $', ' Москва 2017 $',\n",
        "       ' Москва 2018 $', ' Москва 2019 $', ' Москва 2020 $', ' Москва 2021 $']\n",
        "\n",
        "for ved in ved_list:\n",
        "  for period in period_list:\n",
        "    new_representation = fish_10[['Страна', 'Товар и код ТН ВЭД (10 знаков)',period]][fish_10['Товар и код ТН ВЭД (10 знаков)']==ved].groupby('Страна').sum().round(2).sort_values(by=period,ascending=False)[:3]\n",
        "    total_sum = fish_10[['Страна', 'Товар и код ТН ВЭД (10 знаков)',period]][fish_10['Товар и код ТН ВЭД (10 знаков)']==ved].groupby('Страна').sum().sum()[period].round(2)\n",
        "    if len(new_representation) == 3:\n",
        "      best_exp_fish.loc[ len(best_exp_fish.index )] = [ved, period.split(' ')[2], new_representation.index[0], new_representation[period][0], round(new_representation[period][0]/total_sum, 2), new_representation.index[1], new_representation[period][1], round(new_representation[period][1]/total_sum,2), new_representation.index[2], new_representation[period][2], round(new_representation[period][2]/total_sum,2)]\n",
        "    elif len(new_representation) == 2:\n",
        "      best_exp_fish.loc[ len(best_exp_fish.index )] = [ved, period.split(' ')[2], new_representation.index[0], new_representation[period][0], round(new_representation[period][0]/total_sum, 2), new_representation.index[1], new_representation[period][1], round(new_representation[period][1]/total_sum,2), 0, 0, 0]\n",
        "    else:\n",
        "      best_exp_fish.loc[ len(best_exp_fish.index )] = [ved, period.split(' ')[2], new_representation.index[0], new_representation[period][0], round(new_representation[period][0]/total_sum, 2), 0, 0, 0, 0, 0, 0]\n"
      ],
      "metadata": {
        "colab": {
          "base_uri": "https://localhost:8080/"
        },
        "id": "SwaYzxXpaJNO",
        "outputId": "8c2cb0c5-2784-4dff-cb6d-e0a2ee659674"
      },
      "execution_count": null,
      "outputs": [
        {
          "output_type": "stream",
          "name": "stderr",
          "text": [
            "<ipython-input-104-fb35a0f57f4e>:9: RuntimeWarning: invalid value encountered in double_scalars\n",
            "  best_exp_fish.loc[ len(best_exp_fish.index )] = [ved, period.split(' ')[2], new_representation.index[0], new_representation[period][0], round(new_representation[period][0]/total_sum, 2), new_representation.index[1], new_representation[period][1], round(new_representation[period][1]/total_sum,2), new_representation.index[2], new_representation[period][2], round(new_representation[period][2]/total_sum,2)]\n",
            "<ipython-input-104-fb35a0f57f4e>:11: RuntimeWarning: invalid value encountered in double_scalars\n",
            "  best_exp_fish.loc[ len(best_exp_fish.index )] = [ved, period.split(' ')[2], new_representation.index[0], new_representation[period][0], round(new_representation[period][0]/total_sum, 2), new_representation.index[1], new_representation[period][1], round(new_representation[period][1]/total_sum,2), 0, 0, 0]\n",
            "<ipython-input-104-fb35a0f57f4e>:13: RuntimeWarning: invalid value encountered in double_scalars\n",
            "  best_exp_fish.loc[ len(best_exp_fish.index )] = [ved, period.split(' ')[2], new_representation.index[0], new_representation[period][0], round(new_representation[period][0]/total_sum, 2), 0, 0, 0, 0, 0, 0]\n"
          ]
        }
      ]
    },
    {
      "cell_type": "code",
      "source": [
        "best_exp_fish.head()"
      ],
      "metadata": {
        "colab": {
          "base_uri": "https://localhost:8080/",
          "height": 337
        },
        "id": "MvbmS0icdiD1",
        "outputId": "c42a994b-0ace-4ee2-97b3-1e5ac15bb638"
      },
      "execution_count": null,
      "outputs": [
        {
          "output_type": "execute_result",
          "data": {
            "text/plain": [
              "                                              tn_ved period     1_country  \\\n",
              "0  1601001000-Готовые пищевые продукты, изготовле...   2015  KZ-КАЗАХСТАН   \n",
              "1  1601001000-Готовые пищевые продукты, изготовле...   2016  KZ-КАЗАХСТАН   \n",
              "2  1601001000-Готовые пищевые продукты, изготовле...   2017  KZ-КАЗАХСТАН   \n",
              "3  1601001000-Готовые пищевые продукты, изготовле...   2018  KZ-КАЗАХСТАН   \n",
              "4  1601001000-Готовые пищевые продукты, изготовле...   2019  KZ-КАЗАХСТАН   \n",
              "\n",
              "   1_country_sum  1_country_weight               2_country  2_country_sum  \\\n",
              "0       37055.89              1.00              UA-УКРАИНА         139.04   \n",
              "1       24820.35              1.00              AB-АБХАЗИЯ           0.00   \n",
              "2       25678.80              0.99  NNN-НЕИЗВЕСТНАЯ СТРАНА         235.70   \n",
              "3       28779.21              0.96              UA-УКРАИНА        1209.43   \n",
              "4       34336.83              0.98          AZ-АЗЕРБАЙДЖАН         444.60   \n",
              "\n",
              "   2_country_weight       3_country  3_country_sum  3_country_weight  \n",
              "0              0.00      AB-АБХАЗИЯ           0.00              0.00  \n",
              "1              0.00  AZ-АЗЕРБАЙДЖАН           0.00              0.00  \n",
              "2              0.01      AB-АБХАЗИЯ           0.00              0.00  \n",
              "3              0.04  TJ-ТАДЖИКИСТАН           2.15              0.00  \n",
              "4              0.01      UA-УКРАИНА         287.38              0.01  "
            ],
            "text/html": [
              "\n",
              "  <div id=\"df-eb5188e2-4021-492f-b394-4ce57fdaf5c8\">\n",
              "    <div class=\"colab-df-container\">\n",
              "      <div>\n",
              "<style scoped>\n",
              "    .dataframe tbody tr th:only-of-type {\n",
              "        vertical-align: middle;\n",
              "    }\n",
              "\n",
              "    .dataframe tbody tr th {\n",
              "        vertical-align: top;\n",
              "    }\n",
              "\n",
              "    .dataframe thead th {\n",
              "        text-align: right;\n",
              "    }\n",
              "</style>\n",
              "<table border=\"1\" class=\"dataframe\">\n",
              "  <thead>\n",
              "    <tr style=\"text-align: right;\">\n",
              "      <th></th>\n",
              "      <th>tn_ved</th>\n",
              "      <th>period</th>\n",
              "      <th>1_country</th>\n",
              "      <th>1_country_sum</th>\n",
              "      <th>1_country_weight</th>\n",
              "      <th>2_country</th>\n",
              "      <th>2_country_sum</th>\n",
              "      <th>2_country_weight</th>\n",
              "      <th>3_country</th>\n",
              "      <th>3_country_sum</th>\n",
              "      <th>3_country_weight</th>\n",
              "    </tr>\n",
              "  </thead>\n",
              "  <tbody>\n",
              "    <tr>\n",
              "      <th>0</th>\n",
              "      <td>1601001000-Готовые пищевые продукты, изготовле...</td>\n",
              "      <td>2015</td>\n",
              "      <td>KZ-КАЗАХСТАН</td>\n",
              "      <td>37055.89</td>\n",
              "      <td>1.00</td>\n",
              "      <td>UA-УКРАИНА</td>\n",
              "      <td>139.04</td>\n",
              "      <td>0.00</td>\n",
              "      <td>AB-АБХАЗИЯ</td>\n",
              "      <td>0.00</td>\n",
              "      <td>0.00</td>\n",
              "    </tr>\n",
              "    <tr>\n",
              "      <th>1</th>\n",
              "      <td>1601001000-Готовые пищевые продукты, изготовле...</td>\n",
              "      <td>2016</td>\n",
              "      <td>KZ-КАЗАХСТАН</td>\n",
              "      <td>24820.35</td>\n",
              "      <td>1.00</td>\n",
              "      <td>AB-АБХАЗИЯ</td>\n",
              "      <td>0.00</td>\n",
              "      <td>0.00</td>\n",
              "      <td>AZ-АЗЕРБАЙДЖАН</td>\n",
              "      <td>0.00</td>\n",
              "      <td>0.00</td>\n",
              "    </tr>\n",
              "    <tr>\n",
              "      <th>2</th>\n",
              "      <td>1601001000-Готовые пищевые продукты, изготовле...</td>\n",
              "      <td>2017</td>\n",
              "      <td>KZ-КАЗАХСТАН</td>\n",
              "      <td>25678.80</td>\n",
              "      <td>0.99</td>\n",
              "      <td>NNN-НЕИЗВЕСТНАЯ СТРАНА</td>\n",
              "      <td>235.70</td>\n",
              "      <td>0.01</td>\n",
              "      <td>AB-АБХАЗИЯ</td>\n",
              "      <td>0.00</td>\n",
              "      <td>0.00</td>\n",
              "    </tr>\n",
              "    <tr>\n",
              "      <th>3</th>\n",
              "      <td>1601001000-Готовые пищевые продукты, изготовле...</td>\n",
              "      <td>2018</td>\n",
              "      <td>KZ-КАЗАХСТАН</td>\n",
              "      <td>28779.21</td>\n",
              "      <td>0.96</td>\n",
              "      <td>UA-УКРАИНА</td>\n",
              "      <td>1209.43</td>\n",
              "      <td>0.04</td>\n",
              "      <td>TJ-ТАДЖИКИСТАН</td>\n",
              "      <td>2.15</td>\n",
              "      <td>0.00</td>\n",
              "    </tr>\n",
              "    <tr>\n",
              "      <th>4</th>\n",
              "      <td>1601001000-Готовые пищевые продукты, изготовле...</td>\n",
              "      <td>2019</td>\n",
              "      <td>KZ-КАЗАХСТАН</td>\n",
              "      <td>34336.83</td>\n",
              "      <td>0.98</td>\n",
              "      <td>AZ-АЗЕРБАЙДЖАН</td>\n",
              "      <td>444.60</td>\n",
              "      <td>0.01</td>\n",
              "      <td>UA-УКРАИНА</td>\n",
              "      <td>287.38</td>\n",
              "      <td>0.01</td>\n",
              "    </tr>\n",
              "  </tbody>\n",
              "</table>\n",
              "</div>\n",
              "      <button class=\"colab-df-convert\" onclick=\"convertToInteractive('df-eb5188e2-4021-492f-b394-4ce57fdaf5c8')\"\n",
              "              title=\"Convert this dataframe to an interactive table.\"\n",
              "              style=\"display:none;\">\n",
              "        \n",
              "  <svg xmlns=\"http://www.w3.org/2000/svg\" height=\"24px\"viewBox=\"0 0 24 24\"\n",
              "       width=\"24px\">\n",
              "    <path d=\"M0 0h24v24H0V0z\" fill=\"none\"/>\n",
              "    <path d=\"M18.56 5.44l.94 2.06.94-2.06 2.06-.94-2.06-.94-.94-2.06-.94 2.06-2.06.94zm-11 1L8.5 8.5l.94-2.06 2.06-.94-2.06-.94L8.5 2.5l-.94 2.06-2.06.94zm10 10l.94 2.06.94-2.06 2.06-.94-2.06-.94-.94-2.06-.94 2.06-2.06.94z\"/><path d=\"M17.41 7.96l-1.37-1.37c-.4-.4-.92-.59-1.43-.59-.52 0-1.04.2-1.43.59L10.3 9.45l-7.72 7.72c-.78.78-.78 2.05 0 2.83L4 21.41c.39.39.9.59 1.41.59.51 0 1.02-.2 1.41-.59l7.78-7.78 2.81-2.81c.8-.78.8-2.07 0-2.86zM5.41 20L4 18.59l7.72-7.72 1.47 1.35L5.41 20z\"/>\n",
              "  </svg>\n",
              "      </button>\n",
              "      \n",
              "  <style>\n",
              "    .colab-df-container {\n",
              "      display:flex;\n",
              "      flex-wrap:wrap;\n",
              "      gap: 12px;\n",
              "    }\n",
              "\n",
              "    .colab-df-convert {\n",
              "      background-color: #E8F0FE;\n",
              "      border: none;\n",
              "      border-radius: 50%;\n",
              "      cursor: pointer;\n",
              "      display: none;\n",
              "      fill: #1967D2;\n",
              "      height: 32px;\n",
              "      padding: 0 0 0 0;\n",
              "      width: 32px;\n",
              "    }\n",
              "\n",
              "    .colab-df-convert:hover {\n",
              "      background-color: #E2EBFA;\n",
              "      box-shadow: 0px 1px 2px rgba(60, 64, 67, 0.3), 0px 1px 3px 1px rgba(60, 64, 67, 0.15);\n",
              "      fill: #174EA6;\n",
              "    }\n",
              "\n",
              "    [theme=dark] .colab-df-convert {\n",
              "      background-color: #3B4455;\n",
              "      fill: #D2E3FC;\n",
              "    }\n",
              "\n",
              "    [theme=dark] .colab-df-convert:hover {\n",
              "      background-color: #434B5C;\n",
              "      box-shadow: 0px 1px 3px 1px rgba(0, 0, 0, 0.15);\n",
              "      filter: drop-shadow(0px 1px 2px rgba(0, 0, 0, 0.3));\n",
              "      fill: #FFFFFF;\n",
              "    }\n",
              "  </style>\n",
              "\n",
              "      <script>\n",
              "        const buttonEl =\n",
              "          document.querySelector('#df-eb5188e2-4021-492f-b394-4ce57fdaf5c8 button.colab-df-convert');\n",
              "        buttonEl.style.display =\n",
              "          google.colab.kernel.accessAllowed ? 'block' : 'none';\n",
              "\n",
              "        async function convertToInteractive(key) {\n",
              "          const element = document.querySelector('#df-eb5188e2-4021-492f-b394-4ce57fdaf5c8');\n",
              "          const dataTable =\n",
              "            await google.colab.kernel.invokeFunction('convertToInteractive',\n",
              "                                                     [key], {});\n",
              "          if (!dataTable) return;\n",
              "\n",
              "          const docLinkHtml = 'Like what you see? Visit the ' +\n",
              "            '<a target=\"_blank\" href=https://colab.research.google.com/notebooks/data_table.ipynb>data table notebook</a>'\n",
              "            + ' to learn more about interactive tables.';\n",
              "          element.innerHTML = '';\n",
              "          dataTable['output_type'] = 'display_data';\n",
              "          await google.colab.output.renderOutput(dataTable, element);\n",
              "          const docLink = document.createElement('div');\n",
              "          docLink.innerHTML = docLinkHtml;\n",
              "          element.appendChild(docLink);\n",
              "        }\n",
              "      </script>\n",
              "    </div>\n",
              "  </div>\n",
              "  "
            ]
          },
          "metadata": {},
          "execution_count": 105
        }
      ]
    },
    {
      "cell_type": "code",
      "source": [
        "#best_exp_fish.to_csv('/content/best_fish.csv', index=False)"
      ],
      "metadata": {
        "id": "b5mvejV7Mqs_"
      },
      "execution_count": null,
      "outputs": []
    },
    {
      "cell_type": "code",
      "source": [
        "last_year = best_exp_fish[best_exp_fish['period']== '2021']\n",
        "last_year.head()"
      ],
      "metadata": {
        "colab": {
          "base_uri": "https://localhost:8080/",
          "height": 337
        },
        "id": "vemPmKNCjCi8",
        "outputId": "f5a362ce-c941-479d-e458-664525a1e3e6"
      },
      "execution_count": null,
      "outputs": [
        {
          "output_type": "execute_result",
          "data": {
            "text/plain": [
              "                                               tn_ved period     1_country  \\\n",
              "6   1601001000-Готовые пищевые продукты, изготовле...   2021  KZ-КАЗАХСТАН   \n",
              "13  1601009100-Колбасы, сухие или пастообразные, c...   2021  KZ-КАЗАХСТАН   \n",
              "20  1601009900-Прочие готовые пищевые продукты, из...   2021  KZ-КАЗАХСТАН   \n",
              "27  1602100010-Гомогенизированные готовые продукты...   2021   BY-БЕЛАРУСЬ   \n",
              "34  1602201000-Готовые или консервированные продук...   2021  KZ-КАЗАХСТАН   \n",
              "\n",
              "    1_country_sum  1_country_weight       2_country  2_country_sum  \\\n",
              "6       110393.53              0.96  AZ-АЗЕРБАЙДЖАН        2998.98   \n",
              "13     1830707.98              0.63  AZ-АЗЕРБАЙДЖАН      436282.16   \n",
              "20    30145337.85              0.83  AZ-АЗЕРБАЙДЖАН     4455296.94   \n",
              "27      518400.96              0.45    KZ-КАЗАХСТАН      508122.94   \n",
              "34      101030.12              0.43      VN-ВЬЕТНАМ       58130.80   \n",
              "\n",
              "    2_country_weight      3_country  3_country_sum  3_country_weight  \n",
              "6               0.03    BY-БЕЛАРУСЬ         590.86              0.01  \n",
              "13              0.15     AM-АРМЕНИЯ      225700.43              0.08  \n",
              "20              0.12  KG-КЫРГЫЗСТАН      932339.30              0.03  \n",
              "27              0.44  KG-КЫРГЫЗСТАН       55496.87              0.05  \n",
              "34              0.25     UA-УКРАИНА       48405.52              0.21  "
            ],
            "text/html": [
              "\n",
              "  <div id=\"df-756ce0f6-18e8-4cdc-85b8-ed7ca508191c\">\n",
              "    <div class=\"colab-df-container\">\n",
              "      <div>\n",
              "<style scoped>\n",
              "    .dataframe tbody tr th:only-of-type {\n",
              "        vertical-align: middle;\n",
              "    }\n",
              "\n",
              "    .dataframe tbody tr th {\n",
              "        vertical-align: top;\n",
              "    }\n",
              "\n",
              "    .dataframe thead th {\n",
              "        text-align: right;\n",
              "    }\n",
              "</style>\n",
              "<table border=\"1\" class=\"dataframe\">\n",
              "  <thead>\n",
              "    <tr style=\"text-align: right;\">\n",
              "      <th></th>\n",
              "      <th>tn_ved</th>\n",
              "      <th>period</th>\n",
              "      <th>1_country</th>\n",
              "      <th>1_country_sum</th>\n",
              "      <th>1_country_weight</th>\n",
              "      <th>2_country</th>\n",
              "      <th>2_country_sum</th>\n",
              "      <th>2_country_weight</th>\n",
              "      <th>3_country</th>\n",
              "      <th>3_country_sum</th>\n",
              "      <th>3_country_weight</th>\n",
              "    </tr>\n",
              "  </thead>\n",
              "  <tbody>\n",
              "    <tr>\n",
              "      <th>6</th>\n",
              "      <td>1601001000-Готовые пищевые продукты, изготовле...</td>\n",
              "      <td>2021</td>\n",
              "      <td>KZ-КАЗАХСТАН</td>\n",
              "      <td>110393.53</td>\n",
              "      <td>0.96</td>\n",
              "      <td>AZ-АЗЕРБАЙДЖАН</td>\n",
              "      <td>2998.98</td>\n",
              "      <td>0.03</td>\n",
              "      <td>BY-БЕЛАРУСЬ</td>\n",
              "      <td>590.86</td>\n",
              "      <td>0.01</td>\n",
              "    </tr>\n",
              "    <tr>\n",
              "      <th>13</th>\n",
              "      <td>1601009100-Колбасы, сухие или пастообразные, c...</td>\n",
              "      <td>2021</td>\n",
              "      <td>KZ-КАЗАХСТАН</td>\n",
              "      <td>1830707.98</td>\n",
              "      <td>0.63</td>\n",
              "      <td>AZ-АЗЕРБАЙДЖАН</td>\n",
              "      <td>436282.16</td>\n",
              "      <td>0.15</td>\n",
              "      <td>AM-АРМЕНИЯ</td>\n",
              "      <td>225700.43</td>\n",
              "      <td>0.08</td>\n",
              "    </tr>\n",
              "    <tr>\n",
              "      <th>20</th>\n",
              "      <td>1601009900-Прочие готовые пищевые продукты, из...</td>\n",
              "      <td>2021</td>\n",
              "      <td>KZ-КАЗАХСТАН</td>\n",
              "      <td>30145337.85</td>\n",
              "      <td>0.83</td>\n",
              "      <td>AZ-АЗЕРБАЙДЖАН</td>\n",
              "      <td>4455296.94</td>\n",
              "      <td>0.12</td>\n",
              "      <td>KG-КЫРГЫЗСТАН</td>\n",
              "      <td>932339.30</td>\n",
              "      <td>0.03</td>\n",
              "    </tr>\n",
              "    <tr>\n",
              "      <th>27</th>\n",
              "      <td>1602100010-Гомогенизированные готовые продукты...</td>\n",
              "      <td>2021</td>\n",
              "      <td>BY-БЕЛАРУСЬ</td>\n",
              "      <td>518400.96</td>\n",
              "      <td>0.45</td>\n",
              "      <td>KZ-КАЗАХСТАН</td>\n",
              "      <td>508122.94</td>\n",
              "      <td>0.44</td>\n",
              "      <td>KG-КЫРГЫЗСТАН</td>\n",
              "      <td>55496.87</td>\n",
              "      <td>0.05</td>\n",
              "    </tr>\n",
              "    <tr>\n",
              "      <th>34</th>\n",
              "      <td>1602201000-Готовые или консервированные продук...</td>\n",
              "      <td>2021</td>\n",
              "      <td>KZ-КАЗАХСТАН</td>\n",
              "      <td>101030.12</td>\n",
              "      <td>0.43</td>\n",
              "      <td>VN-ВЬЕТНАМ</td>\n",
              "      <td>58130.80</td>\n",
              "      <td>0.25</td>\n",
              "      <td>UA-УКРАИНА</td>\n",
              "      <td>48405.52</td>\n",
              "      <td>0.21</td>\n",
              "    </tr>\n",
              "  </tbody>\n",
              "</table>\n",
              "</div>\n",
              "      <button class=\"colab-df-convert\" onclick=\"convertToInteractive('df-756ce0f6-18e8-4cdc-85b8-ed7ca508191c')\"\n",
              "              title=\"Convert this dataframe to an interactive table.\"\n",
              "              style=\"display:none;\">\n",
              "        \n",
              "  <svg xmlns=\"http://www.w3.org/2000/svg\" height=\"24px\"viewBox=\"0 0 24 24\"\n",
              "       width=\"24px\">\n",
              "    <path d=\"M0 0h24v24H0V0z\" fill=\"none\"/>\n",
              "    <path d=\"M18.56 5.44l.94 2.06.94-2.06 2.06-.94-2.06-.94-.94-2.06-.94 2.06-2.06.94zm-11 1L8.5 8.5l.94-2.06 2.06-.94-2.06-.94L8.5 2.5l-.94 2.06-2.06.94zm10 10l.94 2.06.94-2.06 2.06-.94-2.06-.94-.94-2.06-.94 2.06-2.06.94z\"/><path d=\"M17.41 7.96l-1.37-1.37c-.4-.4-.92-.59-1.43-.59-.52 0-1.04.2-1.43.59L10.3 9.45l-7.72 7.72c-.78.78-.78 2.05 0 2.83L4 21.41c.39.39.9.59 1.41.59.51 0 1.02-.2 1.41-.59l7.78-7.78 2.81-2.81c.8-.78.8-2.07 0-2.86zM5.41 20L4 18.59l7.72-7.72 1.47 1.35L5.41 20z\"/>\n",
              "  </svg>\n",
              "      </button>\n",
              "      \n",
              "  <style>\n",
              "    .colab-df-container {\n",
              "      display:flex;\n",
              "      flex-wrap:wrap;\n",
              "      gap: 12px;\n",
              "    }\n",
              "\n",
              "    .colab-df-convert {\n",
              "      background-color: #E8F0FE;\n",
              "      border: none;\n",
              "      border-radius: 50%;\n",
              "      cursor: pointer;\n",
              "      display: none;\n",
              "      fill: #1967D2;\n",
              "      height: 32px;\n",
              "      padding: 0 0 0 0;\n",
              "      width: 32px;\n",
              "    }\n",
              "\n",
              "    .colab-df-convert:hover {\n",
              "      background-color: #E2EBFA;\n",
              "      box-shadow: 0px 1px 2px rgba(60, 64, 67, 0.3), 0px 1px 3px 1px rgba(60, 64, 67, 0.15);\n",
              "      fill: #174EA6;\n",
              "    }\n",
              "\n",
              "    [theme=dark] .colab-df-convert {\n",
              "      background-color: #3B4455;\n",
              "      fill: #D2E3FC;\n",
              "    }\n",
              "\n",
              "    [theme=dark] .colab-df-convert:hover {\n",
              "      background-color: #434B5C;\n",
              "      box-shadow: 0px 1px 3px 1px rgba(0, 0, 0, 0.15);\n",
              "      filter: drop-shadow(0px 1px 2px rgba(0, 0, 0, 0.3));\n",
              "      fill: #FFFFFF;\n",
              "    }\n",
              "  </style>\n",
              "\n",
              "      <script>\n",
              "        const buttonEl =\n",
              "          document.querySelector('#df-756ce0f6-18e8-4cdc-85b8-ed7ca508191c button.colab-df-convert');\n",
              "        buttonEl.style.display =\n",
              "          google.colab.kernel.accessAllowed ? 'block' : 'none';\n",
              "\n",
              "        async function convertToInteractive(key) {\n",
              "          const element = document.querySelector('#df-756ce0f6-18e8-4cdc-85b8-ed7ca508191c');\n",
              "          const dataTable =\n",
              "            await google.colab.kernel.invokeFunction('convertToInteractive',\n",
              "                                                     [key], {});\n",
              "          if (!dataTable) return;\n",
              "\n",
              "          const docLinkHtml = 'Like what you see? Visit the ' +\n",
              "            '<a target=\"_blank\" href=https://colab.research.google.com/notebooks/data_table.ipynb>data table notebook</a>'\n",
              "            + ' to learn more about interactive tables.';\n",
              "          element.innerHTML = '';\n",
              "          dataTable['output_type'] = 'display_data';\n",
              "          await google.colab.output.renderOutput(dataTable, element);\n",
              "          const docLink = document.createElement('div');\n",
              "          docLink.innerHTML = docLinkHtml;\n",
              "          element.appendChild(docLink);\n",
              "        }\n",
              "      </script>\n",
              "    </div>\n",
              "  </div>\n",
              "  "
            ]
          },
          "metadata": {},
          "execution_count": 106
        }
      ]
    },
    {
      "cell_type": "code",
      "source": [
        "last_year.insert(5,'friendly_1', 1)\n",
        "last_year.insert(9,'friendly_2', 1)\n",
        "last_year.insert(13,'friendly_3', 1)"
      ],
      "metadata": {
        "id": "QLGPQy1JuPuZ"
      },
      "execution_count": null,
      "outputs": []
    },
    {
      "cell_type": "code",
      "source": [
        "last_year['friendly_1'].mask(last_year['1_country'].isin(unfriendly_countries_list), other=0, inplace=True)\n",
        "last_year['friendly_2'].mask(last_year['2_country'].isin(unfriendly_countries_list), other=0, inplace=True)\n",
        "last_year['friendly_3'].mask(last_year['3_country'].isin(unfriendly_countries_list), other=0, inplace=True)"
      ],
      "metadata": {
        "colab": {
          "base_uri": "https://localhost:8080/"
        },
        "id": "0gNOqFvmwUmZ",
        "outputId": "b9cfc145-019f-48d2-88b9-cf2ad9c00b6d"
      },
      "execution_count": null,
      "outputs": [
        {
          "output_type": "stream",
          "name": "stderr",
          "text": [
            "/usr/local/lib/python3.8/dist-packages/pandas/core/generic.py:8870: SettingWithCopyWarning: \n",
            "A value is trying to be set on a copy of a slice from a DataFrame\n",
            "\n",
            "See the caveats in the documentation: https://pandas.pydata.org/pandas-docs/stable/user_guide/indexing.html#returning-a-view-versus-a-copy\n",
            "  return self._update_inplace(result)\n"
          ]
        }
      ]
    },
    {
      "cell_type": "code",
      "source": [
        "last_year.info()"
      ],
      "metadata": {
        "colab": {
          "base_uri": "https://localhost:8080/"
        },
        "id": "ZoTJheCjur6O",
        "outputId": "6a567155-d974-45a2-cfc5-ba94e91284c8"
      },
      "execution_count": null,
      "outputs": [
        {
          "output_type": "stream",
          "name": "stdout",
          "text": [
            "<class 'pandas.core.frame.DataFrame'>\n",
            "Int64Index: 117 entries, 6 to 818\n",
            "Data columns (total 14 columns):\n",
            " #   Column            Non-Null Count  Dtype  \n",
            "---  ------            --------------  -----  \n",
            " 0   tn_ved            117 non-null    object \n",
            " 1   period            117 non-null    object \n",
            " 2   1_country         117 non-null    object \n",
            " 3   1_country_sum     117 non-null    float64\n",
            " 4   1_country_weight  89 non-null     float64\n",
            " 5   friendly_1        117 non-null    int64  \n",
            " 6   2_country         117 non-null    object \n",
            " 7   2_country_sum     117 non-null    float64\n",
            " 8   2_country_weight  94 non-null     float64\n",
            " 9   friendly_2        117 non-null    int64  \n",
            " 10  3_country         117 non-null    object \n",
            " 11  3_country_sum     117 non-null    float64\n",
            " 12  3_country_weight  98 non-null     float64\n",
            " 13  friendly_3        117 non-null    int64  \n",
            "dtypes: float64(6), int64(3), object(5)\n",
            "memory usage: 13.7+ KB\n"
          ]
        }
      ]
    },
    {
      "cell_type": "code",
      "source": [
        "last_year.insert(14,'exp_sum', 0)\n",
        "last_year.insert(15,'exp_weight', 0)\n",
        "last_year.insert(16,'minus_exp_sum', 0)\n",
        "last_year.insert(17,'minus_exp_weight', 0)"
      ],
      "metadata": {
        "id": "EnxnAY4k3W6_"
      },
      "execution_count": null,
      "outputs": []
    },
    {
      "cell_type": "code",
      "source": [
        "for i in range (len(last_year.index)):\n",
        "  exp_sum = last_year['1_country_sum'].iloc[i] + last_year['2_country_sum'].iloc[i] + last_year['3_country_sum'].iloc[i]\n",
        "  last_year['exp_sum'].iloc[i] = exp_sum"
      ],
      "metadata": {
        "colab": {
          "base_uri": "https://localhost:8080/"
        },
        "id": "j0JiEMfT40In",
        "outputId": "7e5f7e83-476d-4462-c70a-39b3bc4b9c00"
      },
      "execution_count": null,
      "outputs": [
        {
          "output_type": "stream",
          "name": "stderr",
          "text": [
            "/usr/local/lib/python3.8/dist-packages/pandas/core/indexing.py:1732: SettingWithCopyWarning: \n",
            "A value is trying to be set on a copy of a slice from a DataFrame\n",
            "\n",
            "See the caveats in the documentation: https://pandas.pydata.org/pandas-docs/stable/user_guide/indexing.html#returning-a-view-versus-a-copy\n",
            "  self._setitem_single_block(indexer, value, name)\n",
            "/usr/local/lib/python3.8/dist-packages/pandas/core/indexing.py:1965: SettingWithCopyWarning: \n",
            "A value is trying to be set on a copy of a slice from a DataFrame\n",
            "\n",
            "See the caveats in the documentation: https://pandas.pydata.org/pandas-docs/stable/user_guide/indexing.html#returning-a-view-versus-a-copy\n",
            "  self.obj._check_is_chained_assignment_possible()\n"
          ]
        }
      ]
    },
    {
      "cell_type": "code",
      "source": [
        "for i in range (len(last_year.index)):\n",
        "  exp_sum = last_year['1_country_sum'].iloc[i] + last_year['2_country_sum'].iloc[i] + last_year['3_country_sum'].iloc[i]\n",
        "  sum_frendly = last_year['1_country_sum'].iloc[i]*last_year['friendly_1'].iloc[i] + last_year['2_country_sum'].iloc[i]*last_year['friendly_2'].iloc[i] + last_year['3_country_sum'].iloc[i]*last_year['friendly_3'].iloc[i]\n",
        "  last_year['minus_exp_sum'].iloc[i] = exp_sum - sum_frendly"
      ],
      "metadata": {
        "id": "SGYHYmhH9M8v"
      },
      "execution_count": null,
      "outputs": []
    },
    {
      "cell_type": "code",
      "source": [
        "for i in range (len(last_year.index)):\n",
        "  exp_weight = last_year['1_country_weight'].iloc[i] + last_year['2_country_weight'].iloc[i] + last_year['3_country_weight'].iloc[i]\n",
        "  last_year['exp_weight'].iloc[i] = exp_weight"
      ],
      "metadata": {
        "id": "_ez-uIw9BQue"
      },
      "execution_count": null,
      "outputs": []
    },
    {
      "cell_type": "code",
      "source": [
        "for i in range (len(last_year.index)):\n",
        "  exp_weight = last_year['1_country_weight'].iloc[i] + last_year['2_country_weight'].iloc[i] + last_year['3_country_weight'].iloc[i]\n",
        "  weight_frendly = last_year['1_country_weight'].iloc[i]*last_year['friendly_1'].iloc[i] + last_year['2_country_weight'].iloc[i]*last_year['friendly_2'].iloc[i] + last_year['3_country_weight'].iloc[i]*last_year['friendly_3'].iloc[i]\n",
        "  last_year['minus_exp_weight'].iloc[i] = exp_weight - weight_frendly"
      ],
      "metadata": {
        "id": "qnRkifvKBebO"
      },
      "execution_count": null,
      "outputs": []
    },
    {
      "cell_type": "code",
      "source": [
        "minus_exp_fish = last_year[['tn_ved','exp_sum', 'exp_weight', 'minus_exp_sum', 'minus_exp_weight']]\n",
        "minus_exp_fish.to_csv('/content/minus_exp_fish.csv', index=False)"
      ],
      "metadata": {
        "id": "qQJalmiE9Mqv"
      },
      "execution_count": null,
      "outputs": []
    },
    {
      "cell_type": "code",
      "source": [
        "minus_exp_fish.sort_values(by='minus_exp_weight', ascending=False)"
      ],
      "metadata": {
        "colab": {
          "base_uri": "https://localhost:8080/",
          "height": 424
        },
        "id": "DvBmd_XlM4Rk",
        "outputId": "7854a7be-6cba-4212-a6b5-dea74a4e168c"
      },
      "execution_count": null,
      "outputs": [
        {
          "output_type": "execute_result",
          "data": {
            "text/plain": [
              "                                                tn_ved    exp_sum  exp_weight  \\\n",
              "419  1605400009-Готовые или консервированные прочие...   59269.34        0.83   \n",
              "461      1605100000-Готовые или консервированные крабы  139933.81        1.00   \n",
              "440  1605550000-Осьминоги готовые или консервированные   14567.06        0.99   \n",
              "475  1605690000-Прочие водные беспозвоночные, готов...   55773.07        0.80   \n",
              "356  1604200500-Готовые или консервированные продук...  451124.97        0.84   \n",
              "..                                                 ...        ...         ...   \n",
              "790  1604149000-Готовая или консервированная продук...       0.00         NaN   \n",
              "797  1604180000-Готовые или консервированные плавни...       0.00         NaN   \n",
              "804  1604195000-Готовые продукты и консервы из рыбы...       0.00         NaN   \n",
              "811  1604199400-Готовая или консервированная продук...       0.00         NaN   \n",
              "818  1605620000-Морские ежи готовые или консервиров...       0.00         NaN   \n",
              "\n",
              "     minus_exp_sum  minus_exp_weight  \n",
              "419       50638.64              0.71  \n",
              "461       96794.62              0.69  \n",
              "440        9113.27              0.62  \n",
              "475       39858.16              0.57  \n",
              "356      254358.96              0.47  \n",
              "..             ...               ...  \n",
              "790           0.00               NaN  \n",
              "797           0.00               NaN  \n",
              "804           0.00               NaN  \n",
              "811           0.00               NaN  \n",
              "818           0.00               NaN  \n",
              "\n",
              "[117 rows x 5 columns]"
            ],
            "text/html": [
              "\n",
              "  <div id=\"df-8c31ffe5-d951-40a1-9b2c-f8a2d75f0ebf\">\n",
              "    <div class=\"colab-df-container\">\n",
              "      <div>\n",
              "<style scoped>\n",
              "    .dataframe tbody tr th:only-of-type {\n",
              "        vertical-align: middle;\n",
              "    }\n",
              "\n",
              "    .dataframe tbody tr th {\n",
              "        vertical-align: top;\n",
              "    }\n",
              "\n",
              "    .dataframe thead th {\n",
              "        text-align: right;\n",
              "    }\n",
              "</style>\n",
              "<table border=\"1\" class=\"dataframe\">\n",
              "  <thead>\n",
              "    <tr style=\"text-align: right;\">\n",
              "      <th></th>\n",
              "      <th>tn_ved</th>\n",
              "      <th>exp_sum</th>\n",
              "      <th>exp_weight</th>\n",
              "      <th>minus_exp_sum</th>\n",
              "      <th>minus_exp_weight</th>\n",
              "    </tr>\n",
              "  </thead>\n",
              "  <tbody>\n",
              "    <tr>\n",
              "      <th>419</th>\n",
              "      <td>1605400009-Готовые или консервированные прочие...</td>\n",
              "      <td>59269.34</td>\n",
              "      <td>0.83</td>\n",
              "      <td>50638.64</td>\n",
              "      <td>0.71</td>\n",
              "    </tr>\n",
              "    <tr>\n",
              "      <th>461</th>\n",
              "      <td>1605100000-Готовые или консервированные крабы</td>\n",
              "      <td>139933.81</td>\n",
              "      <td>1.00</td>\n",
              "      <td>96794.62</td>\n",
              "      <td>0.69</td>\n",
              "    </tr>\n",
              "    <tr>\n",
              "      <th>440</th>\n",
              "      <td>1605550000-Осьминоги готовые или консервированные</td>\n",
              "      <td>14567.06</td>\n",
              "      <td>0.99</td>\n",
              "      <td>9113.27</td>\n",
              "      <td>0.62</td>\n",
              "    </tr>\n",
              "    <tr>\n",
              "      <th>475</th>\n",
              "      <td>1605690000-Прочие водные беспозвоночные, готов...</td>\n",
              "      <td>55773.07</td>\n",
              "      <td>0.80</td>\n",
              "      <td>39858.16</td>\n",
              "      <td>0.57</td>\n",
              "    </tr>\n",
              "    <tr>\n",
              "      <th>356</th>\n",
              "      <td>1604200500-Готовые или консервированные продук...</td>\n",
              "      <td>451124.97</td>\n",
              "      <td>0.84</td>\n",
              "      <td>254358.96</td>\n",
              "      <td>0.47</td>\n",
              "    </tr>\n",
              "    <tr>\n",
              "      <th>...</th>\n",
              "      <td>...</td>\n",
              "      <td>...</td>\n",
              "      <td>...</td>\n",
              "      <td>...</td>\n",
              "      <td>...</td>\n",
              "    </tr>\n",
              "    <tr>\n",
              "      <th>790</th>\n",
              "      <td>1604149000-Готовая или консервированная продук...</td>\n",
              "      <td>0.00</td>\n",
              "      <td>NaN</td>\n",
              "      <td>0.00</td>\n",
              "      <td>NaN</td>\n",
              "    </tr>\n",
              "    <tr>\n",
              "      <th>797</th>\n",
              "      <td>1604180000-Готовые или консервированные плавни...</td>\n",
              "      <td>0.00</td>\n",
              "      <td>NaN</td>\n",
              "      <td>0.00</td>\n",
              "      <td>NaN</td>\n",
              "    </tr>\n",
              "    <tr>\n",
              "      <th>804</th>\n",
              "      <td>1604195000-Готовые продукты и консервы из рыбы...</td>\n",
              "      <td>0.00</td>\n",
              "      <td>NaN</td>\n",
              "      <td>0.00</td>\n",
              "      <td>NaN</td>\n",
              "    </tr>\n",
              "    <tr>\n",
              "      <th>811</th>\n",
              "      <td>1604199400-Готовая или консервированная продук...</td>\n",
              "      <td>0.00</td>\n",
              "      <td>NaN</td>\n",
              "      <td>0.00</td>\n",
              "      <td>NaN</td>\n",
              "    </tr>\n",
              "    <tr>\n",
              "      <th>818</th>\n",
              "      <td>1605620000-Морские ежи готовые или консервиров...</td>\n",
              "      <td>0.00</td>\n",
              "      <td>NaN</td>\n",
              "      <td>0.00</td>\n",
              "      <td>NaN</td>\n",
              "    </tr>\n",
              "  </tbody>\n",
              "</table>\n",
              "<p>117 rows × 5 columns</p>\n",
              "</div>\n",
              "      <button class=\"colab-df-convert\" onclick=\"convertToInteractive('df-8c31ffe5-d951-40a1-9b2c-f8a2d75f0ebf')\"\n",
              "              title=\"Convert this dataframe to an interactive table.\"\n",
              "              style=\"display:none;\">\n",
              "        \n",
              "  <svg xmlns=\"http://www.w3.org/2000/svg\" height=\"24px\"viewBox=\"0 0 24 24\"\n",
              "       width=\"24px\">\n",
              "    <path d=\"M0 0h24v24H0V0z\" fill=\"none\"/>\n",
              "    <path d=\"M18.56 5.44l.94 2.06.94-2.06 2.06-.94-2.06-.94-.94-2.06-.94 2.06-2.06.94zm-11 1L8.5 8.5l.94-2.06 2.06-.94-2.06-.94L8.5 2.5l-.94 2.06-2.06.94zm10 10l.94 2.06.94-2.06 2.06-.94-2.06-.94-.94-2.06-.94 2.06-2.06.94z\"/><path d=\"M17.41 7.96l-1.37-1.37c-.4-.4-.92-.59-1.43-.59-.52 0-1.04.2-1.43.59L10.3 9.45l-7.72 7.72c-.78.78-.78 2.05 0 2.83L4 21.41c.39.39.9.59 1.41.59.51 0 1.02-.2 1.41-.59l7.78-7.78 2.81-2.81c.8-.78.8-2.07 0-2.86zM5.41 20L4 18.59l7.72-7.72 1.47 1.35L5.41 20z\"/>\n",
              "  </svg>\n",
              "      </button>\n",
              "      \n",
              "  <style>\n",
              "    .colab-df-container {\n",
              "      display:flex;\n",
              "      flex-wrap:wrap;\n",
              "      gap: 12px;\n",
              "    }\n",
              "\n",
              "    .colab-df-convert {\n",
              "      background-color: #E8F0FE;\n",
              "      border: none;\n",
              "      border-radius: 50%;\n",
              "      cursor: pointer;\n",
              "      display: none;\n",
              "      fill: #1967D2;\n",
              "      height: 32px;\n",
              "      padding: 0 0 0 0;\n",
              "      width: 32px;\n",
              "    }\n",
              "\n",
              "    .colab-df-convert:hover {\n",
              "      background-color: #E2EBFA;\n",
              "      box-shadow: 0px 1px 2px rgba(60, 64, 67, 0.3), 0px 1px 3px 1px rgba(60, 64, 67, 0.15);\n",
              "      fill: #174EA6;\n",
              "    }\n",
              "\n",
              "    [theme=dark] .colab-df-convert {\n",
              "      background-color: #3B4455;\n",
              "      fill: #D2E3FC;\n",
              "    }\n",
              "\n",
              "    [theme=dark] .colab-df-convert:hover {\n",
              "      background-color: #434B5C;\n",
              "      box-shadow: 0px 1px 3px 1px rgba(0, 0, 0, 0.15);\n",
              "      filter: drop-shadow(0px 1px 2px rgba(0, 0, 0, 0.3));\n",
              "      fill: #FFFFFF;\n",
              "    }\n",
              "  </style>\n",
              "\n",
              "      <script>\n",
              "        const buttonEl =\n",
              "          document.querySelector('#df-8c31ffe5-d951-40a1-9b2c-f8a2d75f0ebf button.colab-df-convert');\n",
              "        buttonEl.style.display =\n",
              "          google.colab.kernel.accessAllowed ? 'block' : 'none';\n",
              "\n",
              "        async function convertToInteractive(key) {\n",
              "          const element = document.querySelector('#df-8c31ffe5-d951-40a1-9b2c-f8a2d75f0ebf');\n",
              "          const dataTable =\n",
              "            await google.colab.kernel.invokeFunction('convertToInteractive',\n",
              "                                                     [key], {});\n",
              "          if (!dataTable) return;\n",
              "\n",
              "          const docLinkHtml = 'Like what you see? Visit the ' +\n",
              "            '<a target=\"_blank\" href=https://colab.research.google.com/notebooks/data_table.ipynb>data table notebook</a>'\n",
              "            + ' to learn more about interactive tables.';\n",
              "          element.innerHTML = '';\n",
              "          dataTable['output_type'] = 'display_data';\n",
              "          await google.colab.output.renderOutput(dataTable, element);\n",
              "          const docLink = document.createElement('div');\n",
              "          docLink.innerHTML = docLinkHtml;\n",
              "          element.appendChild(docLink);\n",
              "        }\n",
              "      </script>\n",
              "    </div>\n",
              "  </div>\n",
              "  "
            ]
          },
          "metadata": {},
          "execution_count": 117
        }
      ]
    }
  ]
}